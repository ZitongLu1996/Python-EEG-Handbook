{
 "cells": [
  {
   "cell_type": "code",
   "execution_count": null,
   "id": "107e3895",
   "metadata": {},
   "outputs": [],
   "source": [
    "! pip install gdown\n",
    "! pip install zipfile\n",
    "! pip install neurora\n",
    "import numpy as np\n",
    "import sys\n",
    "import os\n",
    "from six.moves import urllib\n",
    "import gdown\n",
    "import zipfile\n",
    "from neurora.decoding import tbyt_decoding_kfold\n",
    "from neurora.rsa_plot import plot_tbyt_decoding_acc, plot_rdm, plot_tbytsim_withstats\n",
    "from neurora.rdm_cal import eegRDM\n",
    "from neurora.corr_cal_by_rdm import rdms_corr"
   ]
  },
  {
   "cell_type": "code",
   "execution_count": null,
   "id": "315059c8",
   "metadata": {},
   "outputs": [],
   "source": [
    "data_dir = 'workshop_data/'\n",
    "os.makedirs(data_dir)\n",
    "\n",
    "print('================ Demo Data 1 ================')\n",
    "\n",
    "id = '13bCcdHGVfU6-ahgu95d-W5hkwPAmvNB-'\n",
    "filename = 'data1.zip'\n",
    "filepath = data_dir + filename\n",
    "\n",
    "# Download the data\n",
    "gdown.download(id=id, output=filepath, quiet=False, fuzzy=True)\n",
    "print('Download completes!')\n",
    "# unzip the data\n",
    "with zipfile.ZipFile(filepath, 'r') as zip:\n",
    "    zip.extractall(data_dir)\n",
    "print(\"Unzip completes!\")\n",
    "\n",
    "print('================ Demo Data 2 ================')\n",
    "\n",
    "id = '1SaDPoY65XdgrymEznQlvVLb3M4z59wAS'\n",
    "filename = 'data2.zip'\n",
    "filepath = data_dir + filename\n",
    "\n",
    "# Download the data\n",
    "gdown.download(id=id, output=filepath, quiet=False, fuzzy=True)\n",
    "print('Download completes!')\n",
    "# unzip the data\n",
    "with zipfile.ZipFile(filepath, 'r') as zip:\n",
    "    zip.extractall(data_dir)\n",
    "print(\"Unzip completes!\")\n",
    "\n",
    "data1 = np.load(data_dir + 'data1/data.npy')\n",
    "labels1 = np.load(data_dir + 'data1/labels.npy')\n",
    "data2 = np.load(data_dir + 'data2/data.npy')\n",
    "labels2 = np.load(data_dir + 'data2/labels.npy')"
   ]
  },
  {
   "cell_type": "markdown",
   "id": "8c510d91",
   "metadata": {},
   "source": [
    "### Example 1 Classification-based decoding - decode image representations (based on demo data1)"
   ]
  },
  {
   "cell_type": "markdown",
   "id": "9d7ed29f",
   "metadata": {},
   "source": [
    "Check the data"
   ]
  },
  {
   "cell_type": "code",
   "execution_count": null,
   "id": "a64b4763",
   "metadata": {},
   "outputs": [],
   "source": [
    "print(np.shape(data1))\n",
    "print(np.shape(labels1))"
   ]
  },
  {
   "cell_type": "markdown",
   "id": "9167e3cd",
   "metadata": {},
   "source": [
    "make some notes here:  \n",
    "10 - number of subjects  \n",
    "160 - number of trials  \n",
    "17 - number of channels  \n",
    "100 - number of timepoints (-0.2s to 0.8s, sample frequency = 100)"
   ]
  },
  {
   "cell_type": "code",
   "execution_count": null,
   "id": "07853ca3",
   "metadata": {},
   "outputs": [],
   "source": [
    "print(data1)"
   ]
  },
  {
   "cell_type": "code",
   "execution_count": null,
   "id": "4b1e2ecf",
   "metadata": {},
   "outputs": [],
   "source": [
    "print(labels1)"
   ]
  },
  {
   "cell_type": "markdown",
   "id": "d6be2405",
   "metadata": {},
   "source": [
    "0 - basketball  \n",
    "1 - cat"
   ]
  },
  {
   "cell_type": "markdown",
   "id": "f35d7859",
   "metadata": {},
   "source": [
    "#### Decode brain representations (classification-based decoding)"
   ]
  },
  {
   "cell_type": "markdown",
   "id": "431c3c54",
   "metadata": {},
   "source": [
    "Goal:\n",
    "input of brain signals: 10 * 160 * 17 * 100  \n",
    "output of decoding accuracy: 10 * 100  \n",
    "\n",
    "How to do:  \n",
    "for each subject  \n",
    "for each timepoint  \n",
    "two-class classification using linear classifier  \n",
    "cross-validation"
   ]
  },
  {
   "cell_type": "code",
   "execution_count": null,
   "id": "a4d2dc17",
   "metadata": {},
   "outputs": [],
   "source": [
    "# This is the easiest way to do decoding\n",
    "# A ready-made function: tbyt_decoding_kfold()\n",
    "help(tbyt_decoding_kfold)"
   ]
  },
  {
   "cell_type": "code",
   "execution_count": null,
   "id": "4152a268",
   "metadata": {},
   "outputs": [],
   "source": [
    "accuracies = tbyt_decoding_kfold(data1, labels1, n=2, navg=5, time_win=1, time_step=1, nfolds=3, nrepeats=3)"
   ]
  },
  {
   "cell_type": "markdown",
   "id": "07a010a8",
   "metadata": {},
   "source": [
    "Check decoding results"
   ]
  },
  {
   "cell_type": "code",
   "execution_count": null,
   "id": "ab933053",
   "metadata": {},
   "outputs": [],
   "source": [
    "print(accuracies.shape)"
   ]
  },
  {
   "cell_type": "code",
   "execution_count": null,
   "id": "4e1cf7d3",
   "metadata": {},
   "outputs": [],
   "source": [
    "print(accuracies)"
   ]
  },
  {
   "cell_type": "markdown",
   "id": "3b9e58ac",
   "metadata": {},
   "source": [
    "#### Plot decoding results"
   ]
  },
  {
   "cell_type": "code",
   "execution_count": null,
   "id": "9e77ea82",
   "metadata": {
    "scrolled": true
   },
   "outputs": [],
   "source": [
    "# This is the easiest way to plot decoding results\n",
    "# A ready-made function: plot_tbyt_decoding_acc()\n",
    "help(plot_tbyt_decoding_acc)"
   ]
  },
  {
   "cell_type": "code",
   "execution_count": null,
   "id": "9165995f",
   "metadata": {},
   "outputs": [],
   "source": [
    "plot_tbyt_decoding_acc(accuracies, start_time=-0.2, end_time=0.8, time_interval=0.01, chance=0.5, p=0.05, \n",
    "                       cbpt=False, stats_time=[0, 0.8], color='r', xlim=[-0.2, 0.8], ylim=[0.4, 0.8])"
   ]
  },
  {
   "cell_type": "code",
   "execution_count": null,
   "id": "cb107eb2",
   "metadata": {},
   "outputs": [],
   "source": [
    "plot_tbyt_decoding_acc(accuracies, start_time=-0.2, end_time=0.8, time_interval=0.01, chance=0.5, p=0.05, \n",
    "                       cbpt=False, stats_time=[0, 0.8], color='r', xlim=[-0.2, 0.8], ylim=[0.4, 1])"
   ]
  },
  {
   "cell_type": "code",
   "execution_count": null,
   "id": "dc98daa4",
   "metadata": {},
   "outputs": [],
   "source": [
    "plot_tbyt_decoding_acc(accuracies, start_time=-0.2, end_time=0.8, time_interval=0.01, chance=0.5, p=0.05, \n",
    "                       cbpt=True, stats_time=[0, 0.8], color='r', xlim=[-0.2, 0.8], ylim=[0.4, 1])"
   ]
  },
  {
   "cell_type": "markdown",
   "id": "2ddeed11",
   "metadata": {},
   "source": [
    "### Example 2 Classsification-based decoding - decoding orientation representations (based on demo data2)"
   ]
  },
  {
   "cell_type": "markdown",
   "id": "2d78fdff",
   "metadata": {},
   "source": [
    "Check the data"
   ]
  },
  {
   "cell_type": "code",
   "execution_count": null,
   "id": "85ba7dc7",
   "metadata": {},
   "outputs": [],
   "source": [
    "print(np.shape(data2))\n",
    "print(np.shape(labels2))"
   ]
  },
  {
   "cell_type": "markdown",
   "id": "6472538b",
   "metadata": {},
   "source": [
    "make some notes here:  \n",
    "5 - number of subjects  \n",
    "640 - number of trials  \n",
    "27 - number of channels  \n",
    "500 - number of timepoints (-0.5s to 1.5s, sample frequency = 250)"
   ]
  },
  {
   "cell_type": "code",
   "execution_count": null,
   "id": "9b214bf5",
   "metadata": {},
   "outputs": [],
   "source": [
    "print(data2)"
   ]
  },
  {
   "cell_type": "code",
   "execution_count": null,
   "id": "37444ce5",
   "metadata": {},
   "outputs": [],
   "source": [
    "print(labels2)"
   ]
  },
  {
   "cell_type": "markdown",
   "id": "77b12064",
   "metadata": {},
   "source": [
    "0-15 correspond to 16 orientations:  \n",
    "0 -> 0°;  \n",
    "1 -> 22.5°;  \n",
    "2 -> 45°;  \n",
    "3 -> 67.5°;  \n",
    "...  \n",
    "14 -> 315°;  \n",
    "15 -> 337.5°"
   ]
  },
  {
   "cell_type": "markdown",
   "id": "917fabc0",
   "metadata": {},
   "source": [
    "#### Decode brain representations (classification-based decoding)"
   ]
  },
  {
   "cell_type": "markdown",
   "id": "b62d5ece",
   "metadata": {},
   "source": [
    "Goal:  \n",
    "input of brain signals: 5 * 640 * 27 * 500  \n",
    "output of decoding accuracy: 5 * 500  \n",
    "\n",
    "Do a modification here to save time:  \n",
    "downsample the data - if we average each 5 timepoint  \n",
    "sample frequency: 250Hz -> 50Hz  \n",
    "input: 5 * 640 * 27 * 500  \n",
    "output: 5 * 100\n",
    "\n",
    "How to do:  \n",
    "for each subject  \n",
    "for each timepoint  \n",
    "sixteen-class classification using linear classifier  \n",
    "cross-validation"
   ]
  },
  {
   "cell_type": "code",
   "execution_count": null,
   "id": "cc817d1c",
   "metadata": {},
   "outputs": [],
   "source": [
    "accuracies = tbyt_decoding_kfold(data2, labels2, n=16, navg=5, time_win=5, time_step=5, nfolds=3, nrepeats=3)"
   ]
  },
  {
   "cell_type": "markdown",
   "id": "9cbd9c71",
   "metadata": {},
   "source": [
    "Check decoding results"
   ]
  },
  {
   "cell_type": "code",
   "execution_count": null,
   "id": "865db199",
   "metadata": {},
   "outputs": [],
   "source": [
    "print(accuracies.shape)"
   ]
  },
  {
   "cell_type": "code",
   "execution_count": null,
   "id": "568e97e5",
   "metadata": {},
   "outputs": [],
   "source": [
    "print(accuracies)"
   ]
  },
  {
   "cell_type": "markdown",
   "id": "bc555fb8",
   "metadata": {},
   "source": [
    "#### Plot the decoding results"
   ]
  },
  {
   "cell_type": "code",
   "execution_count": null,
   "id": "ee034c50",
   "metadata": {},
   "outputs": [],
   "source": [
    "plot_tbyt_decoding_acc(accuracies, start_time=-0.5, end_time=1.5, time_interval=0.02, chance=0.0625, p=0.05, \n",
    "                       cbpt=False, stats_time=[0, 1.5], color='r', xlim=[-0.2, 1.5], ylim=[0, 0.2])"
   ]
  },
  {
   "cell_type": "code",
   "execution_count": null,
   "id": "ec9db9b9",
   "metadata": {},
   "outputs": [],
   "source": [
    "plot_tbyt_decoding_acc(accuracies, start_time=-0.5, end_time=1.5, time_interval=0.02, chance=0.0625, p=0.05, \n",
    "                       cbpt=False, stats_time=[0, 1.5], color='r', xlim=[-0.2, 1.5], ylim=[0.025, 0.125])"
   ]
  },
  {
   "cell_type": "code",
   "execution_count": null,
   "id": "722eea4d",
   "metadata": {},
   "outputs": [],
   "source": [
    "plot_tbyt_decoding_acc(accuracies, start_time=-0.5, end_time=1.5, time_interval=0.02, chance=0.0625, p=0.05, \n",
    "                       cbpt=True, stats_time=[0, 1.5], color='r', xlim=[-0.2, 1.5], ylim=[0.025, 0.125])"
   ]
  },
  {
   "cell_type": "markdown",
   "id": "553322f6",
   "metadata": {},
   "source": [
    "### Example 3 RSA - decoding orientation representations (based on demo data2)"
   ]
  },
  {
   "cell_type": "markdown",
   "id": "e2329a8e",
   "metadata": {},
   "source": [
    "How to do  \n",
    "Make hypothesis-based orientation RDM  \n",
    "Make EEG RDMs for each timepoint for each subject  \n",
    "Compare the orientation RDM and EEG RDMs  \n",
    "\n",
    "5 - number of subjects  \n",
    "640 - number of trials  \n",
    "27 - number of channels  \n",
    "500 - number of timepoints (-0.5s to 1.5s, sample frequency = 250)"
   ]
  },
  {
   "cell_type": "markdown",
   "id": "df8c80e1",
   "metadata": {},
   "source": [
    "#### Make orientation RDM"
   ]
  },
  {
   "cell_type": "markdown",
   "id": "4c98f2b4",
   "metadata": {},
   "source": [
    "Assumption:  \n",
    "The closer the two orientations are, the higher the similarity is (the lower the dissimilarity is).  \n",
    "The less close the two orientations are, the lower the similarity is (the higher the dissimilarity is)."
   ]
  },
  {
   "cell_type": "code",
   "execution_count": null,
   "id": "b3a88f77",
   "metadata": {},
   "outputs": [],
   "source": [
    "oriRDM = np.zeros([16, 16])\n",
    "for i in range(16):\n",
    "    for j in range(16):\n",
    "        diff = np.abs(i - j)\n",
    "        if diff <= 8:\n",
    "            oriRDM[i, j] = diff / 8\n",
    "        else:\n",
    "            oriRDM[i, j] = (16 - diff) / 8\n",
    "print(oriRDM)"
   ]
  },
  {
   "cell_type": "markdown",
   "id": "db64d0b0",
   "metadata": {},
   "source": [
    "#### Plot the RDM"
   ]
  },
  {
   "cell_type": "code",
   "execution_count": null,
   "id": "ec59c572",
   "metadata": {},
   "outputs": [],
   "source": [
    "conditions = [\"0°\", \"22.5°\", \"45°\", \"67.5°\", \"90°\", \"112.5°\", \"135°\", \"157.5°\", \"180°\",\n",
    "              \"202.5°\", \"225°\", \"247.5°\", \"270°\", \"292.5°\", \"315°\", \"337.5°\"]\n",
    "\n",
    "# A ready-made function: plot_rdm\n",
    "plot_rdm(oriRDM, conditions=conditions)"
   ]
  },
  {
   "cell_type": "markdown",
   "id": "f911cfa6",
   "metadata": {},
   "source": [
    "#### Make EEG RDMs"
   ]
  },
  {
   "cell_type": "markdown",
   "id": "6d620a92",
   "metadata": {},
   "source": [
    "Goal:  \n",
    "input of brain signals: 5 * 640 * 27 * 500 -> 16 * 5 * 40 * 27 * 500  \n",
    "output of EEG RDMs: 5 * 500 * 16 * 16  "
   ]
  },
  {
   "cell_type": "code",
   "execution_count": null,
   "id": "2b0456fe",
   "metadata": {},
   "outputs": [],
   "source": [
    "data2_16conditions = np.zeros([16, 5, 40, 27, 500])\n",
    "for sub in range(5):\n",
    "    index = np.zeros([16], dtype=int)\n",
    "    for i in range(640):\n",
    "        condition = int(labels2[sub, i])\n",
    "        data2_16conditions[condition, sub, index[condition]] = data2[sub, i]\n",
    "        index[condition] = index[condition] + 1"
   ]
  },
  {
   "cell_type": "markdown",
   "id": "751289b0",
   "metadata": {},
   "source": [
    "Check new data"
   ]
  },
  {
   "cell_type": "code",
   "execution_count": null,
   "id": "d06e843c",
   "metadata": {},
   "outputs": [],
   "source": [
    "print(data2_16conditions.shape)"
   ]
  },
  {
   "cell_type": "markdown",
   "id": "570f9a73",
   "metadata": {},
   "source": [
    "Goal:  \n",
    "input of brain signals: 16 * 5 * 40 * 27 * 500  \n",
    "output of EEG RDMs: 5 * 500 * 16 * 16  \n",
    "\n",
    "We also downsampling the data (average every 5 timepoints, 500 timepoints -> 100 timepoints)  \n",
    "output of EEG RDMs: 5 * 100 * 16 * 16"
   ]
  },
  {
   "cell_type": "code",
   "execution_count": null,
   "id": "2dac1704",
   "metadata": {},
   "outputs": [],
   "source": [
    "# This is the easiest way to calculate RDMs\n",
    "# A ready-made function: eegRDM()\n",
    "help(eegRDM)"
   ]
  },
  {
   "cell_type": "code",
   "execution_count": null,
   "id": "6c8a4c91",
   "metadata": {},
   "outputs": [],
   "source": [
    "eegRDMs = eegRDM(data2_16conditions, sub_opt=1, chl_opt=0, time_opt=1, time_win=5, time_step=5)"
   ]
  },
  {
   "cell_type": "markdown",
   "id": "cfffae7d",
   "metadata": {},
   "source": [
    "Check EEG RDMs"
   ]
  },
  {
   "cell_type": "code",
   "execution_count": null,
   "id": "3c232f1e",
   "metadata": {},
   "outputs": [],
   "source": [
    "print(eegRDMs.shape)"
   ]
  },
  {
   "cell_type": "code",
   "execution_count": null,
   "id": "05a22858",
   "metadata": {},
   "outputs": [],
   "source": [
    "print(eegRDMs)"
   ]
  },
  {
   "cell_type": "markdown",
   "id": "87f0f658",
   "metadata": {},
   "source": [
    "#### Compare between Orientation RDM and EEG RDMs"
   ]
  },
  {
   "cell_type": "markdown",
   "id": "174000a9",
   "metadata": {},
   "source": [
    "Goal:  \n",
    "inputs: orientation RDM 16 * 16 and EEG RDMs 5 * 100 * 16 * 16  \n",
    "output of RSA results (representational similarities for each subject and each timepoint): 5 * 100"
   ]
  },
  {
   "cell_type": "code",
   "execution_count": null,
   "id": "b8f134b3",
   "metadata": {},
   "outputs": [],
   "source": [
    "# This is the easiest way to calculate the similarity\n",
    "# A ready-made function: rdms_corr()\n",
    "help(rdms_corr)"
   ]
  },
  {
   "cell_type": "code",
   "execution_count": null,
   "id": "9494987d",
   "metadata": {},
   "outputs": [],
   "source": [
    "similarities = rdms_corr(oriRDM, eegRDMs)"
   ]
  },
  {
   "cell_type": "markdown",
   "id": "3236f3fe",
   "metadata": {},
   "source": [
    "Check RSA results"
   ]
  },
  {
   "cell_type": "code",
   "execution_count": null,
   "id": "7d7852fe",
   "metadata": {},
   "outputs": [],
   "source": [
    "print(similarities.shape)"
   ]
  },
  {
   "cell_type": "code",
   "execution_count": null,
   "id": "6e872df1",
   "metadata": {},
   "outputs": [],
   "source": [
    "similarities = similarities[:, :, 0]"
   ]
  },
  {
   "cell_type": "code",
   "execution_count": null,
   "id": "0003cfea",
   "metadata": {},
   "outputs": [],
   "source": [
    "print(similarities)"
   ]
  },
  {
   "cell_type": "markdown",
   "id": "62b41a2e",
   "metadata": {},
   "source": [
    "#### Plot RSA results"
   ]
  },
  {
   "cell_type": "code",
   "execution_count": null,
   "id": "b6abd210",
   "metadata": {},
   "outputs": [],
   "source": [
    "# This is the easiest way to plot RSA results\n",
    "# A ready-made function: plot_tbytsim_withstats()\n",
    "help(plot_tbytsim_withstats)"
   ]
  },
  {
   "cell_type": "code",
   "execution_count": null,
   "id": "a3dd7480",
   "metadata": {},
   "outputs": [],
   "source": [
    "plot_tbytsim_withstats(similarities, start_time=-0.5, end_time=1.5, time_interval=0.02, p=0.05,\n",
    "                       cbpt=False, stats_time=[0, 1.5], xlim=[-0.5, 1.5], ylim=[-0.1, 0.8])"
   ]
  },
  {
   "cell_type": "code",
   "execution_count": null,
   "id": "5e337882",
   "metadata": {},
   "outputs": [],
   "source": [
    "plot_tbytsim_withstats(similarities, start_time=-0.5, end_time=1.5, time_interval=0.02, p=0.05,\n",
    "                       cbpt=False, stats_time=[0, 1.5], xlim=[-0.5, 1.5], ylim=[-0.1, 0.3])"
   ]
  },
  {
   "cell_type": "code",
   "execution_count": null,
   "id": "f73e294c",
   "metadata": {},
   "outputs": [],
   "source": [
    "plot_tbytsim_withstats(similarities, start_time=-0.5, end_time=1.5, time_interval=0.02, p=0.05,\n",
    "                       cbpt=True, stats_time=[0, 1.5], xlim=[-0.5, 1.5], ylim=[-0.1, 0.3])"
   ]
  }
 ],
 "metadata": {
  "kernelspec": {
   "display_name": "Python 3 (ipykernel)",
   "language": "python",
   "name": "python3"
  },
  "language_info": {
   "codemirror_mode": {
    "name": "ipython",
    "version": 3
   },
   "file_extension": ".py",
   "mimetype": "text/x-python",
   "name": "python",
   "nbconvert_exporter": "python",
   "pygments_lexer": "ipython3",
   "version": "3.9.12"
  }
 },
 "nbformat": 4,
 "nbformat_minor": 5
}
